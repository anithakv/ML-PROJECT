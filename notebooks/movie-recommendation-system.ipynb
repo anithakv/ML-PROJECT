{
 "cells": [
  {
   "cell_type": "code",
   "execution_count": 1,
   "metadata": {},
   "outputs": [],
   "source": [
    "import pandas as pd\n",
    "import numpy as np\n",
    "import matplotlib.pyplot as plt\n",
    "import seaborn as sns\n",
    "sns.set_style('whitegrid')"
   ]
  },
  {
   "cell_type": "code",
   "execution_count": 2,
   "metadata": {},
   "outputs": [],
   "source": [
    "# ratings = pd.read_csv(r'datasets/title.ratings.tsv/data.tsv',sep='\\t')"
   ]
  },
  {
   "cell_type": "code",
   "execution_count": 3,
   "metadata": {},
   "outputs": [],
   "source": [
    "# akas = pd.read_csv(r'datasets/title.akas.tsv/data.tsv', sep='\\t',low_memory=False)\n",
    "# basics = pd.read_csv(r'datasets/title.basics.tsv/data.tsv', sep='\\t',low_memory=False)"
   ]
  },
  {
   "cell_type": "code",
   "execution_count": 4,
   "metadata": {},
   "outputs": [],
   "source": [
    "# df = pd.merge(basics,ratings,on='tconst')"
   ]
  },
  {
   "cell_type": "code",
   "execution_count": 5,
   "metadata": {},
   "outputs": [],
   "source": [
    "# df.to_csv('imdb_large.csv',index=False)"
   ]
  },
  {
   "cell_type": "code",
   "execution_count": 6,
   "metadata": {},
   "outputs": [],
   "source": [
    "df = pd.read_csv('imdb_sampled.csv',low_memory=False)"
   ]
  },
  {
   "cell_type": "code",
   "execution_count": 7,
   "metadata": {},
   "outputs": [
    {
     "data": {
      "text/html": [
       "<div>\n",
       "<style scoped>\n",
       "    .dataframe tbody tr th:only-of-type {\n",
       "        vertical-align: middle;\n",
       "    }\n",
       "\n",
       "    .dataframe tbody tr th {\n",
       "        vertical-align: top;\n",
       "    }\n",
       "\n",
       "    .dataframe thead th {\n",
       "        text-align: right;\n",
       "    }\n",
       "</style>\n",
       "<table border=\"1\" class=\"dataframe\">\n",
       "  <thead>\n",
       "    <tr style=\"text-align: right;\">\n",
       "      <th></th>\n",
       "      <th>tconst</th>\n",
       "      <th>titleType</th>\n",
       "      <th>primaryTitle</th>\n",
       "      <th>originalTitle</th>\n",
       "      <th>isAdult</th>\n",
       "      <th>startYear</th>\n",
       "      <th>endYear</th>\n",
       "      <th>genres</th>\n",
       "      <th>averageRating</th>\n",
       "      <th>numVotes</th>\n",
       "      <th>sortedTitle_x</th>\n",
       "      <th>sortedTitle_y</th>\n",
       "      <th>imdb_url</th>\n",
       "      <th>sortedTitle_x.1</th>\n",
       "      <th>sortedTitle_y.1</th>\n",
       "      <th>sortedTitle</th>\n",
       "    </tr>\n",
       "  </thead>\n",
       "  <tbody>\n",
       "    <tr>\n",
       "      <th>0</th>\n",
       "      <td>tt1509787</td>\n",
       "      <td>movie</td>\n",
       "      <td>A Bag of Hammers</td>\n",
       "      <td>A Bag of Hammers</td>\n",
       "      <td>0</td>\n",
       "      <td>2011</td>\n",
       "      <td>\\N</td>\n",
       "      <td>Comedy Drama</td>\n",
       "      <td>6.6</td>\n",
       "      <td>2833</td>\n",
       "      <td>A Bag of Hammers (2011)</td>\n",
       "      <td>A Bag of Hammers (2011)</td>\n",
       "      <td>https://www.imdb.com/title/tt1509787/</td>\n",
       "      <td>A Bag of Hammers (2011)</td>\n",
       "      <td>A Bag of Hammers (2011)</td>\n",
       "      <td>A Bag of Hammers (2011)</td>\n",
       "    </tr>\n",
       "    <tr>\n",
       "      <th>1</th>\n",
       "      <td>tt5091612</td>\n",
       "      <td>movie</td>\n",
       "      <td>A Bag of Marbles</td>\n",
       "      <td>Un sac de billes</td>\n",
       "      <td>0</td>\n",
       "      <td>2017</td>\n",
       "      <td>\\N</td>\n",
       "      <td>Drama War</td>\n",
       "      <td>7.3</td>\n",
       "      <td>4458</td>\n",
       "      <td>A Bag of Marbles (2017)</td>\n",
       "      <td>A Bag of Marbles (2017)</td>\n",
       "      <td>https://www.imdb.com/title/tt5091612/</td>\n",
       "      <td>A Bag of Marbles (2017)</td>\n",
       "      <td>A Bag of Marbles (2017)</td>\n",
       "      <td>A Bag of Marbles (2017)</td>\n",
       "    </tr>\n",
       "    <tr>\n",
       "      <th>2</th>\n",
       "      <td>tt2064713</td>\n",
       "      <td>movie</td>\n",
       "      <td>A Band Called Death</td>\n",
       "      <td>A Band Called Death</td>\n",
       "      <td>0</td>\n",
       "      <td>2012</td>\n",
       "      <td>\\N</td>\n",
       "      <td>Biography Documentary Music</td>\n",
       "      <td>7.5</td>\n",
       "      <td>3465</td>\n",
       "      <td>A Band Called Death (2012)</td>\n",
       "      <td>A Band Called Death (2012)</td>\n",
       "      <td>https://www.imdb.com/title/tt2064713/</td>\n",
       "      <td>A Band Called Death (2012)</td>\n",
       "      <td>A Band Called Death (2012)</td>\n",
       "      <td>A Band Called Death (2012)</td>\n",
       "    </tr>\n",
       "    <tr>\n",
       "      <th>3</th>\n",
       "      <td>tt0067656</td>\n",
       "      <td>movie</td>\n",
       "      <td>A Bay of Blood</td>\n",
       "      <td>Ecologia del delitto</td>\n",
       "      <td>0</td>\n",
       "      <td>1971</td>\n",
       "      <td>\\N</td>\n",
       "      <td>Horror Mystery Thriller</td>\n",
       "      <td>6.6</td>\n",
       "      <td>8850</td>\n",
       "      <td>A Bay of Blood (1971)</td>\n",
       "      <td>A Bay of Blood (1971)</td>\n",
       "      <td>https://www.imdb.com/title/tt0067656/</td>\n",
       "      <td>A Bay of Blood (1971)</td>\n",
       "      <td>A Bay of Blood (1971)</td>\n",
       "      <td>A Bay of Blood (1971)</td>\n",
       "    </tr>\n",
       "    <tr>\n",
       "      <th>4</th>\n",
       "      <td>tt3224458</td>\n",
       "      <td>movie</td>\n",
       "      <td>A Beautiful Day in the Neighborhood</td>\n",
       "      <td>A Beautiful Day in the Neighborhood</td>\n",
       "      <td>0</td>\n",
       "      <td>2019</td>\n",
       "      <td>\\N</td>\n",
       "      <td>Biography Drama</td>\n",
       "      <td>7.3</td>\n",
       "      <td>46668</td>\n",
       "      <td>A Beautiful Day in the Neighborhood (2019)</td>\n",
       "      <td>A Beautiful Day in the Neighborhood (2019)</td>\n",
       "      <td>https://www.imdb.com/title/tt3224458/</td>\n",
       "      <td>A Beautiful Day in the Neighborhood (2019)</td>\n",
       "      <td>A Beautiful Day in the Neighborhood (2019)</td>\n",
       "      <td>A Beautiful Day in the Neighborhood (2019)</td>\n",
       "    </tr>\n",
       "  </tbody>\n",
       "</table>\n",
       "</div>"
      ],
      "text/plain": [
       "      tconst titleType                         primaryTitle  \\\n",
       "0  tt1509787     movie                     A Bag of Hammers   \n",
       "1  tt5091612     movie                     A Bag of Marbles   \n",
       "2  tt2064713     movie                  A Band Called Death   \n",
       "3  tt0067656     movie                       A Bay of Blood   \n",
       "4  tt3224458     movie  A Beautiful Day in the Neighborhood   \n",
       "\n",
       "                         originalTitle  isAdult  startYear endYear  \\\n",
       "0                     A Bag of Hammers        0       2011      \\N   \n",
       "1                     Un sac de billes        0       2017      \\N   \n",
       "2                  A Band Called Death        0       2012      \\N   \n",
       "3                 Ecologia del delitto        0       1971      \\N   \n",
       "4  A Beautiful Day in the Neighborhood        0       2019      \\N   \n",
       "\n",
       "                        genres  averageRating  numVotes  \\\n",
       "0                 Comedy Drama            6.6      2833   \n",
       "1                    Drama War            7.3      4458   \n",
       "2  Biography Documentary Music            7.5      3465   \n",
       "3      Horror Mystery Thriller            6.6      8850   \n",
       "4              Biography Drama            7.3     46668   \n",
       "\n",
       "                                sortedTitle_x  \\\n",
       "0                     A Bag of Hammers (2011)   \n",
       "1                     A Bag of Marbles (2017)   \n",
       "2                  A Band Called Death (2012)   \n",
       "3                       A Bay of Blood (1971)   \n",
       "4  A Beautiful Day in the Neighborhood (2019)   \n",
       "\n",
       "                                sortedTitle_y  \\\n",
       "0                     A Bag of Hammers (2011)   \n",
       "1                     A Bag of Marbles (2017)   \n",
       "2                  A Band Called Death (2012)   \n",
       "3                       A Bay of Blood (1971)   \n",
       "4  A Beautiful Day in the Neighborhood (2019)   \n",
       "\n",
       "                                imdb_url  \\\n",
       "0  https://www.imdb.com/title/tt1509787/   \n",
       "1  https://www.imdb.com/title/tt5091612/   \n",
       "2  https://www.imdb.com/title/tt2064713/   \n",
       "3  https://www.imdb.com/title/tt0067656/   \n",
       "4  https://www.imdb.com/title/tt3224458/   \n",
       "\n",
       "                              sortedTitle_x.1  \\\n",
       "0                     A Bag of Hammers (2011)   \n",
       "1                     A Bag of Marbles (2017)   \n",
       "2                  A Band Called Death (2012)   \n",
       "3                       A Bay of Blood (1971)   \n",
       "4  A Beautiful Day in the Neighborhood (2019)   \n",
       "\n",
       "                              sortedTitle_y.1  \\\n",
       "0                     A Bag of Hammers (2011)   \n",
       "1                     A Bag of Marbles (2017)   \n",
       "2                  A Band Called Death (2012)   \n",
       "3                       A Bay of Blood (1971)   \n",
       "4  A Beautiful Day in the Neighborhood (2019)   \n",
       "\n",
       "                                  sortedTitle  \n",
       "0                     A Bag of Hammers (2011)  \n",
       "1                     A Bag of Marbles (2017)  \n",
       "2                  A Band Called Death (2012)  \n",
       "3                       A Bay of Blood (1971)  \n",
       "4  A Beautiful Day in the Neighborhood (2019)  "
      ]
     },
     "execution_count": 7,
     "metadata": {},
     "output_type": "execute_result"
    }
   ],
   "source": [
    "df.head()"
   ]
  },
  {
   "cell_type": "code",
   "execution_count": 8,
   "metadata": {},
   "outputs": [],
   "source": [
    "df['startYear'] = [0 if year == '\\\\N' else int(year) for year in df['startYear']]"
   ]
  },
  {
   "cell_type": "code",
   "execution_count": 9,
   "metadata": {},
   "outputs": [],
   "source": [
    "df['endYear'] = [year if year == '\\\\N' else int(year) for year in df['endYear']]"
   ]
  },
  {
   "cell_type": "code",
   "execution_count": 10,
   "metadata": {},
   "outputs": [],
   "source": [
    "df = df[df['startYear']>=1960]"
   ]
  },
  {
   "cell_type": "code",
   "execution_count": 11,
   "metadata": {},
   "outputs": [],
   "source": [
    "#df.drop(['runtimeMinutes'],axis=1,inplace=True)"
   ]
  },
  {
   "cell_type": "code",
   "execution_count": 12,
   "metadata": {},
   "outputs": [
    {
     "data": {
      "text/html": [
       "<div>\n",
       "<style scoped>\n",
       "    .dataframe tbody tr th:only-of-type {\n",
       "        vertical-align: middle;\n",
       "    }\n",
       "\n",
       "    .dataframe tbody tr th {\n",
       "        vertical-align: top;\n",
       "    }\n",
       "\n",
       "    .dataframe thead th {\n",
       "        text-align: right;\n",
       "    }\n",
       "</style>\n",
       "<table border=\"1\" class=\"dataframe\">\n",
       "  <thead>\n",
       "    <tr style=\"text-align: right;\">\n",
       "      <th></th>\n",
       "      <th>tconst</th>\n",
       "      <th>titleType</th>\n",
       "      <th>primaryTitle</th>\n",
       "      <th>originalTitle</th>\n",
       "      <th>isAdult</th>\n",
       "      <th>startYear</th>\n",
       "      <th>endYear</th>\n",
       "      <th>genres</th>\n",
       "      <th>averageRating</th>\n",
       "      <th>numVotes</th>\n",
       "      <th>sortedTitle_x</th>\n",
       "      <th>sortedTitle_y</th>\n",
       "      <th>imdb_url</th>\n",
       "      <th>sortedTitle_x.1</th>\n",
       "      <th>sortedTitle_y.1</th>\n",
       "      <th>sortedTitle</th>\n",
       "    </tr>\n",
       "  </thead>\n",
       "  <tbody>\n",
       "    <tr>\n",
       "      <th>0</th>\n",
       "      <td>tt1509787</td>\n",
       "      <td>movie</td>\n",
       "      <td>A Bag of Hammers</td>\n",
       "      <td>A Bag of Hammers</td>\n",
       "      <td>0</td>\n",
       "      <td>2011</td>\n",
       "      <td>\\N</td>\n",
       "      <td>Comedy Drama</td>\n",
       "      <td>6.6</td>\n",
       "      <td>2833</td>\n",
       "      <td>A Bag of Hammers (2011)</td>\n",
       "      <td>A Bag of Hammers (2011)</td>\n",
       "      <td>https://www.imdb.com/title/tt1509787/</td>\n",
       "      <td>A Bag of Hammers (2011)</td>\n",
       "      <td>A Bag of Hammers (2011)</td>\n",
       "      <td>A Bag of Hammers (2011)</td>\n",
       "    </tr>\n",
       "    <tr>\n",
       "      <th>1</th>\n",
       "      <td>tt5091612</td>\n",
       "      <td>movie</td>\n",
       "      <td>A Bag of Marbles</td>\n",
       "      <td>Un sac de billes</td>\n",
       "      <td>0</td>\n",
       "      <td>2017</td>\n",
       "      <td>\\N</td>\n",
       "      <td>Drama War</td>\n",
       "      <td>7.3</td>\n",
       "      <td>4458</td>\n",
       "      <td>A Bag of Marbles (2017)</td>\n",
       "      <td>A Bag of Marbles (2017)</td>\n",
       "      <td>https://www.imdb.com/title/tt5091612/</td>\n",
       "      <td>A Bag of Marbles (2017)</td>\n",
       "      <td>A Bag of Marbles (2017)</td>\n",
       "      <td>A Bag of Marbles (2017)</td>\n",
       "    </tr>\n",
       "    <tr>\n",
       "      <th>2</th>\n",
       "      <td>tt2064713</td>\n",
       "      <td>movie</td>\n",
       "      <td>A Band Called Death</td>\n",
       "      <td>A Band Called Death</td>\n",
       "      <td>0</td>\n",
       "      <td>2012</td>\n",
       "      <td>\\N</td>\n",
       "      <td>Biography Documentary Music</td>\n",
       "      <td>7.5</td>\n",
       "      <td>3465</td>\n",
       "      <td>A Band Called Death (2012)</td>\n",
       "      <td>A Band Called Death (2012)</td>\n",
       "      <td>https://www.imdb.com/title/tt2064713/</td>\n",
       "      <td>A Band Called Death (2012)</td>\n",
       "      <td>A Band Called Death (2012)</td>\n",
       "      <td>A Band Called Death (2012)</td>\n",
       "    </tr>\n",
       "    <tr>\n",
       "      <th>3</th>\n",
       "      <td>tt0067656</td>\n",
       "      <td>movie</td>\n",
       "      <td>A Bay of Blood</td>\n",
       "      <td>Ecologia del delitto</td>\n",
       "      <td>0</td>\n",
       "      <td>1971</td>\n",
       "      <td>\\N</td>\n",
       "      <td>Horror Mystery Thriller</td>\n",
       "      <td>6.6</td>\n",
       "      <td>8850</td>\n",
       "      <td>A Bay of Blood (1971)</td>\n",
       "      <td>A Bay of Blood (1971)</td>\n",
       "      <td>https://www.imdb.com/title/tt0067656/</td>\n",
       "      <td>A Bay of Blood (1971)</td>\n",
       "      <td>A Bay of Blood (1971)</td>\n",
       "      <td>A Bay of Blood (1971)</td>\n",
       "    </tr>\n",
       "    <tr>\n",
       "      <th>4</th>\n",
       "      <td>tt3224458</td>\n",
       "      <td>movie</td>\n",
       "      <td>A Beautiful Day in the Neighborhood</td>\n",
       "      <td>A Beautiful Day in the Neighborhood</td>\n",
       "      <td>0</td>\n",
       "      <td>2019</td>\n",
       "      <td>\\N</td>\n",
       "      <td>Biography Drama</td>\n",
       "      <td>7.3</td>\n",
       "      <td>46668</td>\n",
       "      <td>A Beautiful Day in the Neighborhood (2019)</td>\n",
       "      <td>A Beautiful Day in the Neighborhood (2019)</td>\n",
       "      <td>https://www.imdb.com/title/tt3224458/</td>\n",
       "      <td>A Beautiful Day in the Neighborhood (2019)</td>\n",
       "      <td>A Beautiful Day in the Neighborhood (2019)</td>\n",
       "      <td>A Beautiful Day in the Neighborhood (2019)</td>\n",
       "    </tr>\n",
       "  </tbody>\n",
       "</table>\n",
       "</div>"
      ],
      "text/plain": [
       "      tconst titleType                         primaryTitle  \\\n",
       "0  tt1509787     movie                     A Bag of Hammers   \n",
       "1  tt5091612     movie                     A Bag of Marbles   \n",
       "2  tt2064713     movie                  A Band Called Death   \n",
       "3  tt0067656     movie                       A Bay of Blood   \n",
       "4  tt3224458     movie  A Beautiful Day in the Neighborhood   \n",
       "\n",
       "                         originalTitle  isAdult  startYear endYear  \\\n",
       "0                     A Bag of Hammers        0       2011      \\N   \n",
       "1                     Un sac de billes        0       2017      \\N   \n",
       "2                  A Band Called Death        0       2012      \\N   \n",
       "3                 Ecologia del delitto        0       1971      \\N   \n",
       "4  A Beautiful Day in the Neighborhood        0       2019      \\N   \n",
       "\n",
       "                        genres  averageRating  numVotes  \\\n",
       "0                 Comedy Drama            6.6      2833   \n",
       "1                    Drama War            7.3      4458   \n",
       "2  Biography Documentary Music            7.5      3465   \n",
       "3      Horror Mystery Thriller            6.6      8850   \n",
       "4              Biography Drama            7.3     46668   \n",
       "\n",
       "                                sortedTitle_x  \\\n",
       "0                     A Bag of Hammers (2011)   \n",
       "1                     A Bag of Marbles (2017)   \n",
       "2                  A Band Called Death (2012)   \n",
       "3                       A Bay of Blood (1971)   \n",
       "4  A Beautiful Day in the Neighborhood (2019)   \n",
       "\n",
       "                                sortedTitle_y  \\\n",
       "0                     A Bag of Hammers (2011)   \n",
       "1                     A Bag of Marbles (2017)   \n",
       "2                  A Band Called Death (2012)   \n",
       "3                       A Bay of Blood (1971)   \n",
       "4  A Beautiful Day in the Neighborhood (2019)   \n",
       "\n",
       "                                imdb_url  \\\n",
       "0  https://www.imdb.com/title/tt1509787/   \n",
       "1  https://www.imdb.com/title/tt5091612/   \n",
       "2  https://www.imdb.com/title/tt2064713/   \n",
       "3  https://www.imdb.com/title/tt0067656/   \n",
       "4  https://www.imdb.com/title/tt3224458/   \n",
       "\n",
       "                              sortedTitle_x.1  \\\n",
       "0                     A Bag of Hammers (2011)   \n",
       "1                     A Bag of Marbles (2017)   \n",
       "2                  A Band Called Death (2012)   \n",
       "3                       A Bay of Blood (1971)   \n",
       "4  A Beautiful Day in the Neighborhood (2019)   \n",
       "\n",
       "                              sortedTitle_y.1  \\\n",
       "0                     A Bag of Hammers (2011)   \n",
       "1                     A Bag of Marbles (2017)   \n",
       "2                  A Band Called Death (2012)   \n",
       "3                       A Bay of Blood (1971)   \n",
       "4  A Beautiful Day in the Neighborhood (2019)   \n",
       "\n",
       "                                  sortedTitle  \n",
       "0                     A Bag of Hammers (2011)  \n",
       "1                     A Bag of Marbles (2017)  \n",
       "2                  A Band Called Death (2012)  \n",
       "3                       A Bay of Blood (1971)  \n",
       "4  A Beautiful Day in the Neighborhood (2019)  "
      ]
     },
     "execution_count": 12,
     "metadata": {},
     "output_type": "execute_result"
    }
   ],
   "source": [
    "df.head()"
   ]
  },
  {
   "cell_type": "code",
   "execution_count": 13,
   "metadata": {},
   "outputs": [
    {
     "data": {
      "text/plain": [
       "movie           10286\n",
       "tvSeries         2706\n",
       "tvMiniSeries      417\n",
       "tvMovie           358\n",
       "video             189\n",
       "tvSpecial          95\n",
       "Name: titleType, dtype: int64"
      ]
     },
     "execution_count": 13,
     "metadata": {},
     "output_type": "execute_result"
    }
   ],
   "source": [
    "df['titleType'].value_counts()"
   ]
  },
  {
   "cell_type": "code",
   "execution_count": 14,
   "metadata": {},
   "outputs": [],
   "source": [
    "def helper_func(title_type):\n",
    "    if title_type in ['short','tvShort','tvEpisode','videoGame']:\n",
    "        return np.nan\n",
    "    else:\n",
    "        return title_type"
   ]
  },
  {
   "cell_type": "code",
   "execution_count": 15,
   "metadata": {},
   "outputs": [],
   "source": [
    "df['titleType'] =  df['titleType'].apply(helper_func)"
   ]
  },
  {
   "cell_type": "code",
   "execution_count": 16,
   "metadata": {},
   "outputs": [],
   "source": [
    "df = df[df['titleType'].notna()]"
   ]
  },
  {
   "cell_type": "code",
   "execution_count": 17,
   "metadata": {},
   "outputs": [],
   "source": [
    "df['genres'] = df['genres'].apply(lambda x: np.nan if x == '\\\\N' else x)"
   ]
  },
  {
   "cell_type": "code",
   "execution_count": 18,
   "metadata": {},
   "outputs": [],
   "source": [
    "df = df[df['genres'].notna()]"
   ]
  },
  {
   "cell_type": "code",
   "execution_count": 19,
   "metadata": {},
   "outputs": [],
   "source": [
    "df.reset_index(drop=True,inplace=True)"
   ]
  },
  {
   "cell_type": "code",
   "execution_count": 20,
   "metadata": {},
   "outputs": [
    {
     "data": {
      "text/html": [
       "<div>\n",
       "<style scoped>\n",
       "    .dataframe tbody tr th:only-of-type {\n",
       "        vertical-align: middle;\n",
       "    }\n",
       "\n",
       "    .dataframe tbody tr th {\n",
       "        vertical-align: top;\n",
       "    }\n",
       "\n",
       "    .dataframe thead th {\n",
       "        text-align: right;\n",
       "    }\n",
       "</style>\n",
       "<table border=\"1\" class=\"dataframe\">\n",
       "  <thead>\n",
       "    <tr style=\"text-align: right;\">\n",
       "      <th></th>\n",
       "      <th>tconst</th>\n",
       "      <th>titleType</th>\n",
       "      <th>primaryTitle</th>\n",
       "      <th>originalTitle</th>\n",
       "      <th>isAdult</th>\n",
       "      <th>startYear</th>\n",
       "      <th>endYear</th>\n",
       "      <th>genres</th>\n",
       "      <th>averageRating</th>\n",
       "      <th>numVotes</th>\n",
       "      <th>sortedTitle_x</th>\n",
       "      <th>sortedTitle_y</th>\n",
       "      <th>imdb_url</th>\n",
       "      <th>sortedTitle_x.1</th>\n",
       "      <th>sortedTitle_y.1</th>\n",
       "      <th>sortedTitle</th>\n",
       "    </tr>\n",
       "  </thead>\n",
       "  <tbody>\n",
       "    <tr>\n",
       "      <th>0</th>\n",
       "      <td>tt1509787</td>\n",
       "      <td>movie</td>\n",
       "      <td>A Bag of Hammers</td>\n",
       "      <td>A Bag of Hammers</td>\n",
       "      <td>0</td>\n",
       "      <td>2011</td>\n",
       "      <td>\\N</td>\n",
       "      <td>Comedy Drama</td>\n",
       "      <td>6.6</td>\n",
       "      <td>2833</td>\n",
       "      <td>A Bag of Hammers (2011)</td>\n",
       "      <td>A Bag of Hammers (2011)</td>\n",
       "      <td>https://www.imdb.com/title/tt1509787/</td>\n",
       "      <td>A Bag of Hammers (2011)</td>\n",
       "      <td>A Bag of Hammers (2011)</td>\n",
       "      <td>A Bag of Hammers (2011)</td>\n",
       "    </tr>\n",
       "    <tr>\n",
       "      <th>1</th>\n",
       "      <td>tt5091612</td>\n",
       "      <td>movie</td>\n",
       "      <td>A Bag of Marbles</td>\n",
       "      <td>Un sac de billes</td>\n",
       "      <td>0</td>\n",
       "      <td>2017</td>\n",
       "      <td>\\N</td>\n",
       "      <td>Drama War</td>\n",
       "      <td>7.3</td>\n",
       "      <td>4458</td>\n",
       "      <td>A Bag of Marbles (2017)</td>\n",
       "      <td>A Bag of Marbles (2017)</td>\n",
       "      <td>https://www.imdb.com/title/tt5091612/</td>\n",
       "      <td>A Bag of Marbles (2017)</td>\n",
       "      <td>A Bag of Marbles (2017)</td>\n",
       "      <td>A Bag of Marbles (2017)</td>\n",
       "    </tr>\n",
       "    <tr>\n",
       "      <th>2</th>\n",
       "      <td>tt2064713</td>\n",
       "      <td>movie</td>\n",
       "      <td>A Band Called Death</td>\n",
       "      <td>A Band Called Death</td>\n",
       "      <td>0</td>\n",
       "      <td>2012</td>\n",
       "      <td>\\N</td>\n",
       "      <td>Biography Documentary Music</td>\n",
       "      <td>7.5</td>\n",
       "      <td>3465</td>\n",
       "      <td>A Band Called Death (2012)</td>\n",
       "      <td>A Band Called Death (2012)</td>\n",
       "      <td>https://www.imdb.com/title/tt2064713/</td>\n",
       "      <td>A Band Called Death (2012)</td>\n",
       "      <td>A Band Called Death (2012)</td>\n",
       "      <td>A Band Called Death (2012)</td>\n",
       "    </tr>\n",
       "    <tr>\n",
       "      <th>3</th>\n",
       "      <td>tt0067656</td>\n",
       "      <td>movie</td>\n",
       "      <td>A Bay of Blood</td>\n",
       "      <td>Ecologia del delitto</td>\n",
       "      <td>0</td>\n",
       "      <td>1971</td>\n",
       "      <td>\\N</td>\n",
       "      <td>Horror Mystery Thriller</td>\n",
       "      <td>6.6</td>\n",
       "      <td>8850</td>\n",
       "      <td>A Bay of Blood (1971)</td>\n",
       "      <td>A Bay of Blood (1971)</td>\n",
       "      <td>https://www.imdb.com/title/tt0067656/</td>\n",
       "      <td>A Bay of Blood (1971)</td>\n",
       "      <td>A Bay of Blood (1971)</td>\n",
       "      <td>A Bay of Blood (1971)</td>\n",
       "    </tr>\n",
       "    <tr>\n",
       "      <th>4</th>\n",
       "      <td>tt3224458</td>\n",
       "      <td>movie</td>\n",
       "      <td>A Beautiful Day in the Neighborhood</td>\n",
       "      <td>A Beautiful Day in the Neighborhood</td>\n",
       "      <td>0</td>\n",
       "      <td>2019</td>\n",
       "      <td>\\N</td>\n",
       "      <td>Biography Drama</td>\n",
       "      <td>7.3</td>\n",
       "      <td>46668</td>\n",
       "      <td>A Beautiful Day in the Neighborhood (2019)</td>\n",
       "      <td>A Beautiful Day in the Neighborhood (2019)</td>\n",
       "      <td>https://www.imdb.com/title/tt3224458/</td>\n",
       "      <td>A Beautiful Day in the Neighborhood (2019)</td>\n",
       "      <td>A Beautiful Day in the Neighborhood (2019)</td>\n",
       "      <td>A Beautiful Day in the Neighborhood (2019)</td>\n",
       "    </tr>\n",
       "  </tbody>\n",
       "</table>\n",
       "</div>"
      ],
      "text/plain": [
       "      tconst titleType                         primaryTitle  \\\n",
       "0  tt1509787     movie                     A Bag of Hammers   \n",
       "1  tt5091612     movie                     A Bag of Marbles   \n",
       "2  tt2064713     movie                  A Band Called Death   \n",
       "3  tt0067656     movie                       A Bay of Blood   \n",
       "4  tt3224458     movie  A Beautiful Day in the Neighborhood   \n",
       "\n",
       "                         originalTitle  isAdult  startYear endYear  \\\n",
       "0                     A Bag of Hammers        0       2011      \\N   \n",
       "1                     Un sac de billes        0       2017      \\N   \n",
       "2                  A Band Called Death        0       2012      \\N   \n",
       "3                 Ecologia del delitto        0       1971      \\N   \n",
       "4  A Beautiful Day in the Neighborhood        0       2019      \\N   \n",
       "\n",
       "                        genres  averageRating  numVotes  \\\n",
       "0                 Comedy Drama            6.6      2833   \n",
       "1                    Drama War            7.3      4458   \n",
       "2  Biography Documentary Music            7.5      3465   \n",
       "3      Horror Mystery Thriller            6.6      8850   \n",
       "4              Biography Drama            7.3     46668   \n",
       "\n",
       "                                sortedTitle_x  \\\n",
       "0                     A Bag of Hammers (2011)   \n",
       "1                     A Bag of Marbles (2017)   \n",
       "2                  A Band Called Death (2012)   \n",
       "3                       A Bay of Blood (1971)   \n",
       "4  A Beautiful Day in the Neighborhood (2019)   \n",
       "\n",
       "                                sortedTitle_y  \\\n",
       "0                     A Bag of Hammers (2011)   \n",
       "1                     A Bag of Marbles (2017)   \n",
       "2                  A Band Called Death (2012)   \n",
       "3                       A Bay of Blood (1971)   \n",
       "4  A Beautiful Day in the Neighborhood (2019)   \n",
       "\n",
       "                                imdb_url  \\\n",
       "0  https://www.imdb.com/title/tt1509787/   \n",
       "1  https://www.imdb.com/title/tt5091612/   \n",
       "2  https://www.imdb.com/title/tt2064713/   \n",
       "3  https://www.imdb.com/title/tt0067656/   \n",
       "4  https://www.imdb.com/title/tt3224458/   \n",
       "\n",
       "                              sortedTitle_x.1  \\\n",
       "0                     A Bag of Hammers (2011)   \n",
       "1                     A Bag of Marbles (2017)   \n",
       "2                  A Band Called Death (2012)   \n",
       "3                       A Bay of Blood (1971)   \n",
       "4  A Beautiful Day in the Neighborhood (2019)   \n",
       "\n",
       "                              sortedTitle_y.1  \\\n",
       "0                     A Bag of Hammers (2011)   \n",
       "1                     A Bag of Marbles (2017)   \n",
       "2                  A Band Called Death (2012)   \n",
       "3                       A Bay of Blood (1971)   \n",
       "4  A Beautiful Day in the Neighborhood (2019)   \n",
       "\n",
       "                                  sortedTitle  \n",
       "0                     A Bag of Hammers (2011)  \n",
       "1                     A Bag of Marbles (2017)  \n",
       "2                  A Band Called Death (2012)  \n",
       "3                       A Bay of Blood (1971)  \n",
       "4  A Beautiful Day in the Neighborhood (2019)  "
      ]
     },
     "execution_count": 20,
     "metadata": {},
     "output_type": "execute_result"
    }
   ],
   "source": [
    "df.head()"
   ]
  },
  {
   "cell_type": "code",
   "execution_count": 21,
   "metadata": {},
   "outputs": [],
   "source": [
    "df.to_csv('imdb_sampled.csv',index=False)"
   ]
  },
  {
   "cell_type": "code",
   "execution_count": 22,
   "metadata": {},
   "outputs": [],
   "source": [
    "imdb = pd.read_csv('imdb.csv')"
   ]
  },
  {
   "cell_type": "code",
   "execution_count": 23,
   "metadata": {},
   "outputs": [
    {
     "data": {
      "text/html": [
       "<div>\n",
       "<style scoped>\n",
       "    .dataframe tbody tr th:only-of-type {\n",
       "        vertical-align: middle;\n",
       "    }\n",
       "\n",
       "    .dataframe tbody tr th {\n",
       "        vertical-align: top;\n",
       "    }\n",
       "\n",
       "    .dataframe thead th {\n",
       "        text-align: right;\n",
       "    }\n",
       "</style>\n",
       "<table border=\"1\" class=\"dataframe\">\n",
       "  <thead>\n",
       "    <tr style=\"text-align: right;\">\n",
       "      <th></th>\n",
       "      <th>tconst</th>\n",
       "      <th>titleType</th>\n",
       "      <th>primaryTitle</th>\n",
       "      <th>originalTitle</th>\n",
       "      <th>isAdult</th>\n",
       "      <th>startYear</th>\n",
       "      <th>endYear</th>\n",
       "      <th>genres</th>\n",
       "      <th>averageRating</th>\n",
       "      <th>numVotes</th>\n",
       "      <th>sortedTitle_x</th>\n",
       "      <th>sortedTitle_y</th>\n",
       "      <th>imdb_url</th>\n",
       "      <th>sortedTitle_x.1</th>\n",
       "      <th>sortedTitle_y.1</th>\n",
       "    </tr>\n",
       "  </thead>\n",
       "  <tbody>\n",
       "    <tr>\n",
       "      <th>0</th>\n",
       "      <td>tt1509787</td>\n",
       "      <td>movie</td>\n",
       "      <td>A Bag of Hammers</td>\n",
       "      <td>A Bag of Hammers</td>\n",
       "      <td>0</td>\n",
       "      <td>2011</td>\n",
       "      <td>\\N</td>\n",
       "      <td>Comedy Drama</td>\n",
       "      <td>6.6</td>\n",
       "      <td>2833</td>\n",
       "      <td>A Bag of Hammers (2011)</td>\n",
       "      <td>A Bag of Hammers (2011)</td>\n",
       "      <td>https://www.imdb.com/title/tt1509787/</td>\n",
       "      <td>A Bag of Hammers (2011)</td>\n",
       "      <td>A Bag of Hammers (2011)</td>\n",
       "    </tr>\n",
       "    <tr>\n",
       "      <th>1</th>\n",
       "      <td>tt5091612</td>\n",
       "      <td>movie</td>\n",
       "      <td>A Bag of Marbles</td>\n",
       "      <td>Un sac de billes</td>\n",
       "      <td>0</td>\n",
       "      <td>2017</td>\n",
       "      <td>\\N</td>\n",
       "      <td>Drama War</td>\n",
       "      <td>7.3</td>\n",
       "      <td>4458</td>\n",
       "      <td>A Bag of Marbles (2017)</td>\n",
       "      <td>A Bag of Marbles (2017)</td>\n",
       "      <td>https://www.imdb.com/title/tt5091612/</td>\n",
       "      <td>A Bag of Marbles (2017)</td>\n",
       "      <td>A Bag of Marbles (2017)</td>\n",
       "    </tr>\n",
       "    <tr>\n",
       "      <th>2</th>\n",
       "      <td>tt2064713</td>\n",
       "      <td>movie</td>\n",
       "      <td>A Band Called Death</td>\n",
       "      <td>A Band Called Death</td>\n",
       "      <td>0</td>\n",
       "      <td>2012</td>\n",
       "      <td>\\N</td>\n",
       "      <td>Biography Documentary Music</td>\n",
       "      <td>7.5</td>\n",
       "      <td>3465</td>\n",
       "      <td>A Band Called Death (2012)</td>\n",
       "      <td>A Band Called Death (2012)</td>\n",
       "      <td>https://www.imdb.com/title/tt2064713/</td>\n",
       "      <td>A Band Called Death (2012)</td>\n",
       "      <td>A Band Called Death (2012)</td>\n",
       "    </tr>\n",
       "    <tr>\n",
       "      <th>3</th>\n",
       "      <td>tt0067656</td>\n",
       "      <td>movie</td>\n",
       "      <td>A Bay of Blood</td>\n",
       "      <td>Ecologia del delitto</td>\n",
       "      <td>0</td>\n",
       "      <td>1971</td>\n",
       "      <td>\\N</td>\n",
       "      <td>Horror Mystery Thriller</td>\n",
       "      <td>6.6</td>\n",
       "      <td>8850</td>\n",
       "      <td>A Bay of Blood (1971)</td>\n",
       "      <td>A Bay of Blood (1971)</td>\n",
       "      <td>https://www.imdb.com/title/tt0067656/</td>\n",
       "      <td>A Bay of Blood (1971)</td>\n",
       "      <td>A Bay of Blood (1971)</td>\n",
       "    </tr>\n",
       "    <tr>\n",
       "      <th>4</th>\n",
       "      <td>tt3224458</td>\n",
       "      <td>movie</td>\n",
       "      <td>A Beautiful Day in the Neighborhood</td>\n",
       "      <td>A Beautiful Day in the Neighborhood</td>\n",
       "      <td>0</td>\n",
       "      <td>2019</td>\n",
       "      <td>\\N</td>\n",
       "      <td>Biography Drama</td>\n",
       "      <td>7.3</td>\n",
       "      <td>46668</td>\n",
       "      <td>A Beautiful Day in the Neighborhood (2019)</td>\n",
       "      <td>A Beautiful Day in the Neighborhood (2019)</td>\n",
       "      <td>https://www.imdb.com/title/tt3224458/</td>\n",
       "      <td>A Beautiful Day in the Neighborhood (2019)</td>\n",
       "      <td>A Beautiful Day in the Neighborhood (2019)</td>\n",
       "    </tr>\n",
       "  </tbody>\n",
       "</table>\n",
       "</div>"
      ],
      "text/plain": [
       "      tconst titleType                         primaryTitle  \\\n",
       "0  tt1509787     movie                     A Bag of Hammers   \n",
       "1  tt5091612     movie                     A Bag of Marbles   \n",
       "2  tt2064713     movie                  A Band Called Death   \n",
       "3  tt0067656     movie                       A Bay of Blood   \n",
       "4  tt3224458     movie  A Beautiful Day in the Neighborhood   \n",
       "\n",
       "                         originalTitle  isAdult  startYear endYear  \\\n",
       "0                     A Bag of Hammers        0       2011      \\N   \n",
       "1                     Un sac de billes        0       2017      \\N   \n",
       "2                  A Band Called Death        0       2012      \\N   \n",
       "3                 Ecologia del delitto        0       1971      \\N   \n",
       "4  A Beautiful Day in the Neighborhood        0       2019      \\N   \n",
       "\n",
       "                        genres  averageRating  numVotes  \\\n",
       "0                 Comedy Drama            6.6      2833   \n",
       "1                    Drama War            7.3      4458   \n",
       "2  Biography Documentary Music            7.5      3465   \n",
       "3      Horror Mystery Thriller            6.6      8850   \n",
       "4              Biography Drama            7.3     46668   \n",
       "\n",
       "                                sortedTitle_x  \\\n",
       "0                     A Bag of Hammers (2011)   \n",
       "1                     A Bag of Marbles (2017)   \n",
       "2                  A Band Called Death (2012)   \n",
       "3                       A Bay of Blood (1971)   \n",
       "4  A Beautiful Day in the Neighborhood (2019)   \n",
       "\n",
       "                                sortedTitle_y  \\\n",
       "0                     A Bag of Hammers (2011)   \n",
       "1                     A Bag of Marbles (2017)   \n",
       "2                  A Band Called Death (2012)   \n",
       "3                       A Bay of Blood (1971)   \n",
       "4  A Beautiful Day in the Neighborhood (2019)   \n",
       "\n",
       "                                imdb_url  \\\n",
       "0  https://www.imdb.com/title/tt1509787/   \n",
       "1  https://www.imdb.com/title/tt5091612/   \n",
       "2  https://www.imdb.com/title/tt2064713/   \n",
       "3  https://www.imdb.com/title/tt0067656/   \n",
       "4  https://www.imdb.com/title/tt3224458/   \n",
       "\n",
       "                              sortedTitle_x.1  \\\n",
       "0                     A Bag of Hammers (2011)   \n",
       "1                     A Bag of Marbles (2017)   \n",
       "2                  A Band Called Death (2012)   \n",
       "3                       A Bay of Blood (1971)   \n",
       "4  A Beautiful Day in the Neighborhood (2019)   \n",
       "\n",
       "                              sortedTitle_y.1  \n",
       "0                     A Bag of Hammers (2011)  \n",
       "1                     A Bag of Marbles (2017)  \n",
       "2                  A Band Called Death (2012)  \n",
       "3                       A Bay of Blood (1971)  \n",
       "4  A Beautiful Day in the Neighborhood (2019)  "
      ]
     },
     "execution_count": 23,
     "metadata": {},
     "output_type": "execute_result"
    }
   ],
   "source": [
    "imdb.head()"
   ]
  },
  {
   "cell_type": "code",
   "execution_count": 24,
   "metadata": {},
   "outputs": [
    {
     "data": {
      "text/plain": [
       "<matplotlib.axes._subplots.AxesSubplot at 0x1a8325f1340>"
      ]
     },
     "execution_count": 24,
     "metadata": {},
     "output_type": "execute_result"
    },
    {
     "data": {
      "image/png": "[encoded data removed]",
      "text/plain": [
       "<Figure size 432x288 with 1 Axes>"
      ]
     },
     "metadata": {},
     "output_type": "display_data"
    }
   ],
   "source": [
    "sns.distplot(imdb['averageRating'])"
   ]
  },
  {
   "cell_type": "code",
   "execution_count": 25,
   "metadata": {},
   "outputs": [
    {
     "data": {
      "text/plain": [
       "<matplotlib.axes._subplots.AxesSubplot at 0x1a832ed70a0>"
      ]
     },
     "execution_count": 25,
     "metadata": {},
     "output_type": "execute_result"
    },
    {
     "data": {
      "image/png": "[encoded data removed]",
      "text/plain": [
       "<Figure size 432x288 with 1 Axes>"
      ]
     },
     "metadata": {},
     "output_type": "display_data"
    }
   ],
   "source": [
    "sns.distplot(imdb['numVotes'][imdb['numVotes']<=3124],bins=30)"
   ]
  },
  {
   "cell_type": "code",
   "execution_count": 26,
   "metadata": {},
   "outputs": [
    {
     "data": {
      "text/plain": [
       "count      14051.00\n",
       "mean       48475.77\n",
       "std       124403.67\n",
       "min         2500.00\n",
       "25%         4288.50\n",
       "50%         9051.00\n",
       "75%        31584.50\n",
       "95%       235282.50\n",
       "max      2260919.00\n",
       "Name: numVotes, dtype: float64"
      ]
     },
     "execution_count": 26,
     "metadata": {},
     "output_type": "execute_result"
    }
   ],
   "source": [
    "imdb['numVotes'].describe(percentiles=[0.25,0.75,0.95]).round(2)"
   ]
  },
  {
   "cell_type": "code",
   "execution_count": 27,
   "metadata": {},
   "outputs": [
    {
     "data": {
      "text/plain": [
       "count    14051.00\n",
       "mean         7.30\n",
       "std          0.61\n",
       "min          6.40\n",
       "25%          6.80\n",
       "50%          7.20\n",
       "75%          7.70\n",
       "95%          8.40\n",
       "max          9.90\n",
       "Name: averageRating, dtype: float64"
      ]
     },
     "execution_count": 27,
     "metadata": {},
     "output_type": "execute_result"
    }
   ],
   "source": [
    "imdb['averageRating'].describe(percentiles=[0.25,0.75,0.95]).round(2)"
   ]
  },
  {
   "cell_type": "code",
   "execution_count": 28,
   "metadata": {
    "scrolled": false
   },
   "outputs": [
    {
     "data": {
      "text/html": [
       "<div>\n",
       "<style scoped>\n",
       "    .dataframe tbody tr th:only-of-type {\n",
       "        vertical-align: middle;\n",
       "    }\n",
       "\n",
       "    .dataframe tbody tr th {\n",
       "        vertical-align: top;\n",
       "    }\n",
       "\n",
       "    .dataframe thead th {\n",
       "        text-align: right;\n",
       "    }\n",
       "</style>\n",
       "<table border=\"1\" class=\"dataframe\">\n",
       "  <thead>\n",
       "    <tr style=\"text-align: right;\">\n",
       "      <th></th>\n",
       "      <th>isAdult</th>\n",
       "      <th>startYear</th>\n",
       "      <th>averageRating</th>\n",
       "      <th>numVotes</th>\n",
       "    </tr>\n",
       "  </thead>\n",
       "  <tbody>\n",
       "    <tr>\n",
       "      <th>isAdult</th>\n",
       "      <td>1.000000</td>\n",
       "      <td>0.003965</td>\n",
       "      <td>0.003915</td>\n",
       "      <td>-0.004291</td>\n",
       "    </tr>\n",
       "    <tr>\n",
       "      <th>startYear</th>\n",
       "      <td>0.003965</td>\n",
       "      <td>1.000000</td>\n",
       "      <td>-0.003611</td>\n",
       "      <td>0.048841</td>\n",
       "    </tr>\n",
       "    <tr>\n",
       "      <th>averageRating</th>\n",
       "      <td>0.003915</td>\n",
       "      <td>-0.003611</td>\n",
       "      <td>1.000000</td>\n",
       "      <td>0.161868</td>\n",
       "    </tr>\n",
       "    <tr>\n",
       "      <th>numVotes</th>\n",
       "      <td>-0.004291</td>\n",
       "      <td>0.048841</td>\n",
       "      <td>0.161868</td>\n",
       "      <td>1.000000</td>\n",
       "    </tr>\n",
       "  </tbody>\n",
       "</table>\n",
       "</div>"
      ],
      "text/plain": [
       "                isAdult  startYear  averageRating  numVotes\n",
       "isAdult        1.000000   0.003965       0.003915 -0.004291\n",
       "startYear      0.003965   1.000000      -0.003611  0.048841\n",
       "averageRating  0.003915  -0.003611       1.000000  0.161868\n",
       "numVotes      -0.004291   0.048841       0.161868  1.000000"
      ]
     },
     "execution_count": 28,
     "metadata": {},
     "output_type": "execute_result"
    }
   ],
   "source": [
    "imdb.corr()"
   ]
  },
  {
   "cell_type": "code",
   "execution_count": 29,
   "metadata": {},
   "outputs": [
    {
     "data": {
      "text/plain": [
       "<matplotlib.axes._subplots.AxesSubplot at 0x1a832fd7a30>"
      ]
     },
     "execution_count": 29,
     "metadata": {},
     "output_type": "execute_result"
    },
    {
     "data": {
      "image/png": "[encoded data removed]",
      "text/plain": [
       "<Figure size 432x288 with 2 Axes>"
      ]
     },
     "metadata": {},
     "output_type": "display_data"
    }
   ],
   "source": [
    "np.random.seed(0)\n",
    "data = imdb.corr()\n",
    "df = pd.DataFrame(data,columns=['isAdult','startYear','averageRating','numVotes'])\n",
    "#df = df.pivot('isAdult','startYear','averageRating','numVotes')\n",
    "sns.heatmap(df, linewidths=4, linecolor=\"white\",annot=True)"
   ]
  },
  {
   "cell_type": "code",
   "execution_count": 30,
   "metadata": {},
   "outputs": [],
   "source": [
    "imdb = pd.read_csv('imdb.csv')"
   ]
  },
  {
   "cell_type": "code",
   "execution_count": 31,
   "metadata": {},
   "outputs": [],
   "source": [
    "imdb = imdb[(imdb['numVotes']>=2500) & (imdb['averageRating']>=6.4)]"
   ]
  },
  {
   "cell_type": "code",
   "execution_count": 32,
   "metadata": {},
   "outputs": [],
   "source": [
    "imdb.reset_index(drop=True,inplace=True)"
   ]
  },
  {
   "cell_type": "code",
   "execution_count": 33,
   "metadata": {},
   "outputs": [
    {
     "data": {
      "text/html": [
       "<div>\n",
       "<style scoped>\n",
       "    .dataframe tbody tr th:only-of-type {\n",
       "        vertical-align: middle;\n",
       "    }\n",
       "\n",
       "    .dataframe tbody tr th {\n",
       "        vertical-align: top;\n",
       "    }\n",
       "\n",
       "    .dataframe thead th {\n",
       "        text-align: right;\n",
       "    }\n",
       "</style>\n",
       "<table border=\"1\" class=\"dataframe\">\n",
       "  <thead>\n",
       "    <tr style=\"text-align: right;\">\n",
       "      <th></th>\n",
       "      <th>tconst</th>\n",
       "      <th>titleType</th>\n",
       "      <th>primaryTitle</th>\n",
       "      <th>originalTitle</th>\n",
       "      <th>isAdult</th>\n",
       "      <th>startYear</th>\n",
       "      <th>endYear</th>\n",
       "      <th>genres</th>\n",
       "      <th>averageRating</th>\n",
       "      <th>numVotes</th>\n",
       "      <th>sortedTitle_x</th>\n",
       "      <th>sortedTitle_y</th>\n",
       "      <th>imdb_url</th>\n",
       "      <th>sortedTitle_x.1</th>\n",
       "      <th>sortedTitle_y.1</th>\n",
       "    </tr>\n",
       "  </thead>\n",
       "  <tbody>\n",
       "    <tr>\n",
       "      <th>0</th>\n",
       "      <td>tt1509787</td>\n",
       "      <td>movie</td>\n",
       "      <td>A Bag of Hammers</td>\n",
       "      <td>A Bag of Hammers</td>\n",
       "      <td>0</td>\n",
       "      <td>2011</td>\n",
       "      <td>\\N</td>\n",
       "      <td>Comedy Drama</td>\n",
       "      <td>6.6</td>\n",
       "      <td>2833</td>\n",
       "      <td>A Bag of Hammers (2011)</td>\n",
       "      <td>A Bag of Hammers (2011)</td>\n",
       "      <td>https://www.imdb.com/title/tt1509787/</td>\n",
       "      <td>A Bag of Hammers (2011)</td>\n",
       "      <td>A Bag of Hammers (2011)</td>\n",
       "    </tr>\n",
       "    <tr>\n",
       "      <th>1</th>\n",
       "      <td>tt5091612</td>\n",
       "      <td>movie</td>\n",
       "      <td>A Bag of Marbles</td>\n",
       "      <td>Un sac de billes</td>\n",
       "      <td>0</td>\n",
       "      <td>2017</td>\n",
       "      <td>\\N</td>\n",
       "      <td>Drama War</td>\n",
       "      <td>7.3</td>\n",
       "      <td>4458</td>\n",
       "      <td>A Bag of Marbles (2017)</td>\n",
       "      <td>A Bag of Marbles (2017)</td>\n",
       "      <td>https://www.imdb.com/title/tt5091612/</td>\n",
       "      <td>A Bag of Marbles (2017)</td>\n",
       "      <td>A Bag of Marbles (2017)</td>\n",
       "    </tr>\n",
       "    <tr>\n",
       "      <th>2</th>\n",
       "      <td>tt2064713</td>\n",
       "      <td>movie</td>\n",
       "      <td>A Band Called Death</td>\n",
       "      <td>A Band Called Death</td>\n",
       "      <td>0</td>\n",
       "      <td>2012</td>\n",
       "      <td>\\N</td>\n",
       "      <td>Biography Documentary Music</td>\n",
       "      <td>7.5</td>\n",
       "      <td>3465</td>\n",
       "      <td>A Band Called Death (2012)</td>\n",
       "      <td>A Band Called Death (2012)</td>\n",
       "      <td>https://www.imdb.com/title/tt2064713/</td>\n",
       "      <td>A Band Called Death (2012)</td>\n",
       "      <td>A Band Called Death (2012)</td>\n",
       "    </tr>\n",
       "    <tr>\n",
       "      <th>3</th>\n",
       "      <td>tt0067656</td>\n",
       "      <td>movie</td>\n",
       "      <td>A Bay of Blood</td>\n",
       "      <td>Ecologia del delitto</td>\n",
       "      <td>0</td>\n",
       "      <td>1971</td>\n",
       "      <td>\\N</td>\n",
       "      <td>Horror Mystery Thriller</td>\n",
       "      <td>6.6</td>\n",
       "      <td>8850</td>\n",
       "      <td>A Bay of Blood (1971)</td>\n",
       "      <td>A Bay of Blood (1971)</td>\n",
       "      <td>https://www.imdb.com/title/tt0067656/</td>\n",
       "      <td>A Bay of Blood (1971)</td>\n",
       "      <td>A Bay of Blood (1971)</td>\n",
       "    </tr>\n",
       "    <tr>\n",
       "      <th>4</th>\n",
       "      <td>tt3224458</td>\n",
       "      <td>movie</td>\n",
       "      <td>A Beautiful Day in the Neighborhood</td>\n",
       "      <td>A Beautiful Day in the Neighborhood</td>\n",
       "      <td>0</td>\n",
       "      <td>2019</td>\n",
       "      <td>\\N</td>\n",
       "      <td>Biography Drama</td>\n",
       "      <td>7.3</td>\n",
       "      <td>46668</td>\n",
       "      <td>A Beautiful Day in the Neighborhood (2019)</td>\n",
       "      <td>A Beautiful Day in the Neighborhood (2019)</td>\n",
       "      <td>https://www.imdb.com/title/tt3224458/</td>\n",
       "      <td>A Beautiful Day in the Neighborhood (2019)</td>\n",
       "      <td>A Beautiful Day in the Neighborhood (2019)</td>\n",
       "    </tr>\n",
       "  </tbody>\n",
       "</table>\n",
       "</div>"
      ],
      "text/plain": [
       "      tconst titleType                         primaryTitle  \\\n",
       "0  tt1509787     movie                     A Bag of Hammers   \n",
       "1  tt5091612     movie                     A Bag of Marbles   \n",
       "2  tt2064713     movie                  A Band Called Death   \n",
       "3  tt0067656     movie                       A Bay of Blood   \n",
       "4  tt3224458     movie  A Beautiful Day in the Neighborhood   \n",
       "\n",
       "                         originalTitle  isAdult  startYear endYear  \\\n",
       "0                     A Bag of Hammers        0       2011      \\N   \n",
       "1                     Un sac de billes        0       2017      \\N   \n",
       "2                  A Band Called Death        0       2012      \\N   \n",
       "3                 Ecologia del delitto        0       1971      \\N   \n",
       "4  A Beautiful Day in the Neighborhood        0       2019      \\N   \n",
       "\n",
       "                        genres  averageRating  numVotes  \\\n",
       "0                 Comedy Drama            6.6      2833   \n",
       "1                    Drama War            7.3      4458   \n",
       "2  Biography Documentary Music            7.5      3465   \n",
       "3      Horror Mystery Thriller            6.6      8850   \n",
       "4              Biography Drama            7.3     46668   \n",
       "\n",
       "                                sortedTitle_x  \\\n",
       "0                     A Bag of Hammers (2011)   \n",
       "1                     A Bag of Marbles (2017)   \n",
       "2                  A Band Called Death (2012)   \n",
       "3                       A Bay of Blood (1971)   \n",
       "4  A Beautiful Day in the Neighborhood (2019)   \n",
       "\n",
       "                                sortedTitle_y  \\\n",
       "0                     A Bag of Hammers (2011)   \n",
       "1                     A Bag of Marbles (2017)   \n",
       "2                  A Band Called Death (2012)   \n",
       "3                       A Bay of Blood (1971)   \n",
       "4  A Beautiful Day in the Neighborhood (2019)   \n",
       "\n",
       "                                imdb_url  \\\n",
       "0  https://www.imdb.com/title/tt1509787/   \n",
       "1  https://www.imdb.com/title/tt5091612/   \n",
       "2  https://www.imdb.com/title/tt2064713/   \n",
       "3  https://www.imdb.com/title/tt0067656/   \n",
       "4  https://www.imdb.com/title/tt3224458/   \n",
       "\n",
       "                              sortedTitle_x.1  \\\n",
       "0                     A Bag of Hammers (2011)   \n",
       "1                     A Bag of Marbles (2017)   \n",
       "2                  A Band Called Death (2012)   \n",
       "3                       A Bay of Blood (1971)   \n",
       "4  A Beautiful Day in the Neighborhood (2019)   \n",
       "\n",
       "                              sortedTitle_y.1  \n",
       "0                     A Bag of Hammers (2011)  \n",
       "1                     A Bag of Marbles (2017)  \n",
       "2                  A Band Called Death (2012)  \n",
       "3                       A Bay of Blood (1971)  \n",
       "4  A Beautiful Day in the Neighborhood (2019)  "
      ]
     },
     "execution_count": 33,
     "metadata": {},
     "output_type": "execute_result"
    }
   ],
   "source": [
    "imdb.head()"
   ]
  },
  {
   "cell_type": "code",
   "execution_count": 34,
   "metadata": {},
   "outputs": [],
   "source": [
    "imdb['startYear'] = [year if year == '\\\\N' else int(year) for year in imdb['startYear']]"
   ]
  },
  {
   "cell_type": "code",
   "execution_count": 35,
   "metadata": {},
   "outputs": [],
   "source": [
    "imdb['endYear'] = [year if year == '\\\\N' else int(year) for year in imdb['endYear']]"
   ]
  },
  {
   "cell_type": "code",
   "execution_count": 36,
   "metadata": {},
   "outputs": [],
   "source": [
    "imdb['primaryTitle'] = imdb['primaryTitle'].apply(lambda x: x.strip(\"'*\"))\n",
    "bool_mask = imdb['primaryTitle'].str[0].str.isalpha()\n",
    "alpha_list = imdb['primaryTitle'][bool_mask].sort_values()\n",
    "non_alpha_list = imdb['primaryTitle'][~bool_mask].sort_values()\n",
    "imdb = imdb.iloc[alpha_list.append(non_alpha_list).index]"
   ]
  },
  {
   "cell_type": "code",
   "execution_count": 37,
   "metadata": {},
   "outputs": [],
   "source": [
    "imdb.index = imdb['tconst']"
   ]
  },
  {
   "cell_type": "code",
   "execution_count": 38,
   "metadata": {},
   "outputs": [],
   "source": [
    "tv_shows = ['tvSeries', 'tvMovie', 'tvMiniSeries', 'video', 'tvSpecial']"
   ]
  },
  {
   "cell_type": "code",
   "execution_count": 39,
   "metadata": {},
   "outputs": [],
   "source": [
    "movie_df = imdb[imdb['titleType'].apply(lambda x: x not in tv_shows)]"
   ]
  },
  {
   "cell_type": "code",
   "execution_count": 40,
   "metadata": {},
   "outputs": [],
   "source": [
    "tv_shows_df = imdb[imdb['titleType'].apply(lambda x: x in tv_shows)]"
   ]
  },
  {
   "cell_type": "code",
   "execution_count": 41,
   "metadata": {},
   "outputs": [],
   "source": [
    "tv_shows_dict = {k: f\"{t} ({s})\" if s == e else f\"{t} ({s}– )\" if e =='\\\\N' else f\"{t} ({s}–{e})\" for k,t,s,e in tv_shows_df[['primaryTitle','startYear','endYear']].itertuples()}"
   ]
  },
  {
   "cell_type": "code",
   "execution_count": 42,
   "metadata": {},
   "outputs": [],
   "source": [
    "movie_dict = {k: f\"{t} ({s})\"  for k,t,s,e in movie_df[['primaryTitle','startYear','endYear']].itertuples()}"
   ]
  },
  {
   "cell_type": "code",
   "execution_count": 43,
   "metadata": {},
   "outputs": [],
   "source": [
    "sortedTitle = pd.Series(tv_shows_dict).append(pd.Series(movie_dict))"
   ]
  },
  {
   "cell_type": "code",
   "execution_count": 44,
   "metadata": {},
   "outputs": [],
   "source": [
    "imdb.reset_index(drop=True, inplace=True)"
   ]
  },
  {
   "cell_type": "code",
   "execution_count": 45,
   "metadata": {},
   "outputs": [],
   "source": [
    "sortedTitle = pd.DataFrame(sortedTitle).reset_index().rename({'index':'tconst',0:'sortedTitle'},axis=1)"
   ]
  },
  {
   "cell_type": "code",
   "execution_count": 46,
   "metadata": {},
   "outputs": [
    {
     "data": {
      "text/html": [
       "<div>\n",
       "<style scoped>\n",
       "    .dataframe tbody tr th:only-of-type {\n",
       "        vertical-align: middle;\n",
       "    }\n",
       "\n",
       "    .dataframe tbody tr th {\n",
       "        vertical-align: top;\n",
       "    }\n",
       "\n",
       "    .dataframe thead th {\n",
       "        text-align: right;\n",
       "    }\n",
       "</style>\n",
       "<table border=\"1\" class=\"dataframe\">\n",
       "  <thead>\n",
       "    <tr style=\"text-align: right;\">\n",
       "      <th></th>\n",
       "      <th>tconst</th>\n",
       "      <th>sortedTitle</th>\n",
       "    </tr>\n",
       "  </thead>\n",
       "  <tbody>\n",
       "    <tr>\n",
       "      <th>0</th>\n",
       "      <td>tt0101049</td>\n",
       "      <td>A Bit of Fry and Laurie (1987–1995)</td>\n",
       "    </tr>\n",
       "    <tr>\n",
       "      <th>1</th>\n",
       "      <td>tt0385567</td>\n",
       "      <td>A Boyfriend for Christmas (2004– )</td>\n",
       "    </tr>\n",
       "    <tr>\n",
       "      <th>2</th>\n",
       "      <td>tt2415112</td>\n",
       "      <td>A Bride for Christmas (2012– )</td>\n",
       "    </tr>\n",
       "    <tr>\n",
       "      <th>3</th>\n",
       "      <td>tt0059026</td>\n",
       "      <td>A Charlie Brown Christmas (1965– )</td>\n",
       "    </tr>\n",
       "    <tr>\n",
       "      <th>4</th>\n",
       "      <td>tt0216621</td>\n",
       "      <td>A Christmas Carol (1999– )</td>\n",
       "    </tr>\n",
       "  </tbody>\n",
       "</table>\n",
       "</div>"
      ],
      "text/plain": [
       "      tconst                          sortedTitle\n",
       "0  tt0101049  A Bit of Fry and Laurie (1987–1995)\n",
       "1  tt0385567   A Boyfriend for Christmas (2004– )\n",
       "2  tt2415112       A Bride for Christmas (2012– )\n",
       "3  tt0059026   A Charlie Brown Christmas (1965– )\n",
       "4  tt0216621           A Christmas Carol (1999– )"
      ]
     },
     "execution_count": 46,
     "metadata": {},
     "output_type": "execute_result"
    }
   ],
   "source": [
    "sortedTitle.head()"
   ]
  },
  {
   "cell_type": "code",
   "execution_count": 47,
   "metadata": {},
   "outputs": [],
   "source": [
    "imdb = imdb.merge(sortedTitle, on='tconst')"
   ]
  },
  {
   "cell_type": "code",
   "execution_count": 48,
   "metadata": {},
   "outputs": [],
   "source": [
    "imdb['genres'] = [genre.replace(',', ' ') for genre in imdb['genres']]"
   ]
  },
  {
   "cell_type": "code",
   "execution_count": 49,
   "metadata": {},
   "outputs": [],
   "source": [
    "imdb['imdb_url'] = imdb['tconst'].apply(lambda titleId: f'https://www.imdb.com/title/{titleId}/')"
   ]
  },
  {
   "cell_type": "code",
   "execution_count": 50,
   "metadata": {},
   "outputs": [],
   "source": [
    "imdb.reset_index(drop=True, inplace=True)"
   ]
  },
  {
   "cell_type": "code",
   "execution_count": 51,
   "metadata": {},
   "outputs": [],
   "source": [
    "imdb.to_csv('imdb_sampled.csv', index=False)"
   ]
  },
  {
   "cell_type": "code",
   "execution_count": 52,
   "metadata": {},
   "outputs": [],
   "source": [
    "imdb = pd.read_csv('imdb_sampled.csv')"
   ]
  },
  {
   "cell_type": "code",
   "execution_count": 53,
   "metadata": {},
   "outputs": [
    {
     "data": {
      "text/html": [
       "<div>\n",
       "<style scoped>\n",
       "    .dataframe tbody tr th:only-of-type {\n",
       "        vertical-align: middle;\n",
       "    }\n",
       "\n",
       "    .dataframe tbody tr th {\n",
       "        vertical-align: top;\n",
       "    }\n",
       "\n",
       "    .dataframe thead th {\n",
       "        text-align: right;\n",
       "    }\n",
       "</style>\n",
       "<table border=\"1\" class=\"dataframe\">\n",
       "  <thead>\n",
       "    <tr style=\"text-align: right;\">\n",
       "      <th></th>\n",
       "      <th>tconst</th>\n",
       "      <th>titleType</th>\n",
       "      <th>primaryTitle</th>\n",
       "      <th>originalTitle</th>\n",
       "      <th>isAdult</th>\n",
       "      <th>startYear</th>\n",
       "      <th>endYear</th>\n",
       "      <th>genres</th>\n",
       "      <th>averageRating</th>\n",
       "      <th>numVotes</th>\n",
       "      <th>sortedTitle_x</th>\n",
       "      <th>sortedTitle_y</th>\n",
       "      <th>imdb_url</th>\n",
       "      <th>sortedTitle_x.1</th>\n",
       "      <th>sortedTitle_y.1</th>\n",
       "      <th>sortedTitle</th>\n",
       "    </tr>\n",
       "  </thead>\n",
       "  <tbody>\n",
       "    <tr>\n",
       "      <th>0</th>\n",
       "      <td>tt1509787</td>\n",
       "      <td>movie</td>\n",
       "      <td>A Bag of Hammers</td>\n",
       "      <td>A Bag of Hammers</td>\n",
       "      <td>0</td>\n",
       "      <td>2011</td>\n",
       "      <td>\\N</td>\n",
       "      <td>Comedy Drama</td>\n",
       "      <td>6.6</td>\n",
       "      <td>2833</td>\n",
       "      <td>A Bag of Hammers (2011)</td>\n",
       "      <td>A Bag of Hammers (2011)</td>\n",
       "      <td>https://www.imdb.com/title/tt1509787/</td>\n",
       "      <td>A Bag of Hammers (2011)</td>\n",
       "      <td>A Bag of Hammers (2011)</td>\n",
       "      <td>A Bag of Hammers (2011)</td>\n",
       "    </tr>\n",
       "    <tr>\n",
       "      <th>1</th>\n",
       "      <td>tt5091612</td>\n",
       "      <td>movie</td>\n",
       "      <td>A Bag of Marbles</td>\n",
       "      <td>Un sac de billes</td>\n",
       "      <td>0</td>\n",
       "      <td>2017</td>\n",
       "      <td>\\N</td>\n",
       "      <td>Drama War</td>\n",
       "      <td>7.3</td>\n",
       "      <td>4458</td>\n",
       "      <td>A Bag of Marbles (2017)</td>\n",
       "      <td>A Bag of Marbles (2017)</td>\n",
       "      <td>https://www.imdb.com/title/tt5091612/</td>\n",
       "      <td>A Bag of Marbles (2017)</td>\n",
       "      <td>A Bag of Marbles (2017)</td>\n",
       "      <td>A Bag of Marbles (2017)</td>\n",
       "    </tr>\n",
       "    <tr>\n",
       "      <th>2</th>\n",
       "      <td>tt2064713</td>\n",
       "      <td>movie</td>\n",
       "      <td>A Band Called Death</td>\n",
       "      <td>A Band Called Death</td>\n",
       "      <td>0</td>\n",
       "      <td>2012</td>\n",
       "      <td>\\N</td>\n",
       "      <td>Biography Documentary Music</td>\n",
       "      <td>7.5</td>\n",
       "      <td>3465</td>\n",
       "      <td>A Band Called Death (2012)</td>\n",
       "      <td>A Band Called Death (2012)</td>\n",
       "      <td>https://www.imdb.com/title/tt2064713/</td>\n",
       "      <td>A Band Called Death (2012)</td>\n",
       "      <td>A Band Called Death (2012)</td>\n",
       "      <td>A Band Called Death (2012)</td>\n",
       "    </tr>\n",
       "    <tr>\n",
       "      <th>3</th>\n",
       "      <td>tt0067656</td>\n",
       "      <td>movie</td>\n",
       "      <td>A Bay of Blood</td>\n",
       "      <td>Ecologia del delitto</td>\n",
       "      <td>0</td>\n",
       "      <td>1971</td>\n",
       "      <td>\\N</td>\n",
       "      <td>Horror Mystery Thriller</td>\n",
       "      <td>6.6</td>\n",
       "      <td>8850</td>\n",
       "      <td>A Bay of Blood (1971)</td>\n",
       "      <td>A Bay of Blood (1971)</td>\n",
       "      <td>https://www.imdb.com/title/tt0067656/</td>\n",
       "      <td>A Bay of Blood (1971)</td>\n",
       "      <td>A Bay of Blood (1971)</td>\n",
       "      <td>A Bay of Blood (1971)</td>\n",
       "    </tr>\n",
       "    <tr>\n",
       "      <th>4</th>\n",
       "      <td>tt3224458</td>\n",
       "      <td>movie</td>\n",
       "      <td>A Beautiful Day in the Neighborhood</td>\n",
       "      <td>A Beautiful Day in the Neighborhood</td>\n",
       "      <td>0</td>\n",
       "      <td>2019</td>\n",
       "      <td>\\N</td>\n",
       "      <td>Biography Drama</td>\n",
       "      <td>7.3</td>\n",
       "      <td>46668</td>\n",
       "      <td>A Beautiful Day in the Neighborhood (2019)</td>\n",
       "      <td>A Beautiful Day in the Neighborhood (2019)</td>\n",
       "      <td>https://www.imdb.com/title/tt3224458/</td>\n",
       "      <td>A Beautiful Day in the Neighborhood (2019)</td>\n",
       "      <td>A Beautiful Day in the Neighborhood (2019)</td>\n",
       "      <td>A Beautiful Day in the Neighborhood (2019)</td>\n",
       "    </tr>\n",
       "  </tbody>\n",
       "</table>\n",
       "</div>"
      ],
      "text/plain": [
       "      tconst titleType                         primaryTitle  \\\n",
       "0  tt1509787     movie                     A Bag of Hammers   \n",
       "1  tt5091612     movie                     A Bag of Marbles   \n",
       "2  tt2064713     movie                  A Band Called Death   \n",
       "3  tt0067656     movie                       A Bay of Blood   \n",
       "4  tt3224458     movie  A Beautiful Day in the Neighborhood   \n",
       "\n",
       "                         originalTitle  isAdult  startYear endYear  \\\n",
       "0                     A Bag of Hammers        0       2011      \\N   \n",
       "1                     Un sac de billes        0       2017      \\N   \n",
       "2                  A Band Called Death        0       2012      \\N   \n",
       "3                 Ecologia del delitto        0       1971      \\N   \n",
       "4  A Beautiful Day in the Neighborhood        0       2019      \\N   \n",
       "\n",
       "                        genres  averageRating  numVotes  \\\n",
       "0                 Comedy Drama            6.6      2833   \n",
       "1                    Drama War            7.3      4458   \n",
       "2  Biography Documentary Music            7.5      3465   \n",
       "3      Horror Mystery Thriller            6.6      8850   \n",
       "4              Biography Drama            7.3     46668   \n",
       "\n",
       "                                sortedTitle_x  \\\n",
       "0                     A Bag of Hammers (2011)   \n",
       "1                     A Bag of Marbles (2017)   \n",
       "2                  A Band Called Death (2012)   \n",
       "3                       A Bay of Blood (1971)   \n",
       "4  A Beautiful Day in the Neighborhood (2019)   \n",
       "\n",
       "                                sortedTitle_y  \\\n",
       "0                     A Bag of Hammers (2011)   \n",
       "1                     A Bag of Marbles (2017)   \n",
       "2                  A Band Called Death (2012)   \n",
       "3                       A Bay of Blood (1971)   \n",
       "4  A Beautiful Day in the Neighborhood (2019)   \n",
       "\n",
       "                                imdb_url  \\\n",
       "0  https://www.imdb.com/title/tt1509787/   \n",
       "1  https://www.imdb.com/title/tt5091612/   \n",
       "2  https://www.imdb.com/title/tt2064713/   \n",
       "3  https://www.imdb.com/title/tt0067656/   \n",
       "4  https://www.imdb.com/title/tt3224458/   \n",
       "\n",
       "                              sortedTitle_x.1  \\\n",
       "0                     A Bag of Hammers (2011)   \n",
       "1                     A Bag of Marbles (2017)   \n",
       "2                  A Band Called Death (2012)   \n",
       "3                       A Bay of Blood (1971)   \n",
       "4  A Beautiful Day in the Neighborhood (2019)   \n",
       "\n",
       "                              sortedTitle_y.1  \\\n",
       "0                     A Bag of Hammers (2011)   \n",
       "1                     A Bag of Marbles (2017)   \n",
       "2                  A Band Called Death (2012)   \n",
       "3                       A Bay of Blood (1971)   \n",
       "4  A Beautiful Day in the Neighborhood (2019)   \n",
       "\n",
       "                                  sortedTitle  \n",
       "0                     A Bag of Hammers (2011)  \n",
       "1                     A Bag of Marbles (2017)  \n",
       "2                  A Band Called Death (2012)  \n",
       "3                       A Bay of Blood (1971)  \n",
       "4  A Beautiful Day in the Neighborhood (2019)  "
      ]
     },
     "execution_count": 53,
     "metadata": {},
     "output_type": "execute_result"
    }
   ],
   "source": [
    "imdb.head()"
   ]
  },
  {
   "cell_type": "code",
   "execution_count": 54,
   "metadata": {},
   "outputs": [],
   "source": [
    "from sklearn.feature_extraction.text import CountVectorizer"
   ]
  },
  {
   "cell_type": "code",
   "execution_count": 55,
   "metadata": {},
   "outputs": [],
   "source": [
    "cv = CountVectorizer(dtype=np.uint8)"
   ]
  },
  {
   "cell_type": "code",
   "execution_count": 56,
   "metadata": {},
   "outputs": [],
   "source": [
    "dtm = cv.fit_transform(imdb['genres']).toarray()"
   ]
  },
  {
   "cell_type": "code",
   "execution_count": 57,
   "metadata": {},
   "outputs": [
    {
     "data": {
      "text/plain": [
       "(14051, 30)"
      ]
     },
     "execution_count": 57,
     "metadata": {},
     "output_type": "execute_result"
    }
   ],
   "source": [
    "dtm.shape"
   ]
  },
  {
   "cell_type": "code",
   "execution_count": 58,
   "metadata": {},
   "outputs": [],
   "source": [
    "new_matrix = np.concatenate((dtm, np.array(imdb['averageRating']).reshape(-1,1)),axis=1)"
   ]
  },
  {
   "cell_type": "code",
   "execution_count": 59,
   "metadata": {},
   "outputs": [],
   "source": [
    "from sklearn.preprocessing import MinMaxScaler"
   ]
  },
  {
   "cell_type": "code",
   "execution_count": 60,
   "metadata": {},
   "outputs": [],
   "source": [
    "MMS = MinMaxScaler()"
   ]
  },
  {
   "cell_type": "code",
   "execution_count": 61,
   "metadata": {},
   "outputs": [],
   "source": [
    "numVotes = np.array(imdb['numVotes'])"
   ]
  },
  {
   "cell_type": "code",
   "execution_count": 62,
   "metadata": {},
   "outputs": [],
   "source": [
    "numVotes = numVotes.reshape(-1,1)"
   ]
  },
  {
   "cell_type": "code",
   "execution_count": 63,
   "metadata": {},
   "outputs": [],
   "source": [
    "numVotes = MMS.fit_transform(numVotes)"
   ]
  },
  {
   "cell_type": "code",
   "execution_count": 64,
   "metadata": {},
   "outputs": [],
   "source": [
    "new_matrix = np.concatenate((new_matrix,numVotes),axis=1)"
   ]
  },
  {
   "cell_type": "code",
   "execution_count": 65,
   "metadata": {},
   "outputs": [],
   "source": [
    "from sklearn.metrics.pairwise import cosine_similarity"
   ]
  },
  {
   "cell_type": "code",
   "execution_count": 66,
   "metadata": {},
   "outputs": [],
   "source": [
    "similarities = cosine_similarity(new_matrix,dense_output=False)"
   ]
  },
  {
   "cell_type": "code",
   "execution_count": 67,
   "metadata": {},
   "outputs": [
    {
     "data": {
      "text/plain": [
       "(14051, 14051)"
      ]
     },
     "execution_count": 67,
     "metadata": {},
     "output_type": "execute_result"
    }
   ],
   "source": [
    "similarities.shape"
   ]
  },
  {
   "cell_type": "code",
   "execution_count": 68,
   "metadata": {},
   "outputs": [],
   "source": [
    "def build_recommendations(title):\n",
    "    try:\n",
    "        title = title.lower()\n",
    "        tv_shows = ['tvSeries', 'tvMovie', 'tvMiniSeries', 'video', 'tvSpecial']\n",
    "#         sorted_title_found = True in imdb['sortedTitle'].apply(lambda t: t.lower() == title)\n",
    "        try:\n",
    "            idx = imdb[imdb['sortedTitle'].apply(lambda x: x.lower())==title].index[0]\n",
    "        except:\n",
    "            idx = imdb[imdb['primaryTitle'].apply(lambda x: x.lower())==title].index[0]\n",
    "             \n",
    "        recommendations = imdb['sortedTitle'].iloc[similarities[idx].argsort()[::-1]][0:500] # slicing only 500 values for improved performance (process explained below)\n",
    "\n",
    "        if imdb.iloc[idx]['titleType'] != 'movie':\n",
    "            tv_recommendations = {rec:[imdb['tconst'].iloc[rec],imdb['sortedTitle'].iloc[rec]] for rec in recommendations.index if imdb['titleType'].iloc[rec] in tv_shows}\n",
    "            return pd.DataFrame(tv_recommendations).transpose().iloc[1:11]\n",
    "\n",
    "        else:\n",
    "            movie_recommendations = {rec:[imdb['tconst'].iloc[rec], imdb['sortedTitle'].iloc[rec]] for rec in recommendations.index if imdb['titleType'].iloc[rec] == 'movie'}\n",
    "            return pd.DataFrame(movie_recommendations).transpose().iloc[1:11]\n",
    "    except:\n",
    "        return None"
   ]
  },
  {
   "cell_type": "code",
   "execution_count": 69,
   "metadata": {},
   "outputs": [],
   "source": [
    "def get_recommendations(title):\n",
    "    recommendations = build_recommendations(title)\n",
    "    if recommendations is None:\n",
    "        return recommendations\n",
    "    else:\n",
    "        recommendations.rename(columns={0:'tconst',1:'title'},inplace=True)\n",
    "        recommendations.reset_index(drop=True, inplace=True)\n",
    "        recommendations['urls'] = [f'https://www.imdb.com/title/{title_id}/' for title_id in recommendations['tconst']]\n",
    "        return recommendations.drop('tconst',axis=1)"
   ]
  },
  {
   "cell_type": "code",
   "execution_count": 70,
   "metadata": {},
   "outputs": [
    {
     "name": "stdout",
     "output_type": "stream",
     "text": [
      "112 ms ± 15 ms per loop (mean ± std. dev. of 7 runs, 1 loop each)\n"
     ]
    }
   ],
   "source": [
    "# before slicing\n",
    "%timeit get_recommendations('IT')"
   ]
  },
  {
   "cell_type": "code",
   "execution_count": 71,
   "metadata": {},
   "outputs": [],
   "source": [
    "recom_len = []\n",
    "for item in imdb['primaryTitle']:\n",
    "    recom_len.append(build_recommendations(item).shape[0])"
   ]
  },
  {
   "cell_type": "code",
   "execution_count": 72,
   "metadata": {},
   "outputs": [
    {
     "data": {
      "text/plain": [
       "count    14051.0\n",
       "mean        10.0\n",
       "std          0.0\n",
       "min         10.0\n",
       "25%         10.0\n",
       "50%         10.0\n",
       "75%         10.0\n",
       "max         10.0\n",
       "dtype: float64"
      ]
     },
     "execution_count": 72,
     "metadata": {},
     "output_type": "execute_result"
    }
   ],
   "source": [
    "# we can see here, we only need to slice 500 values to get atleast 10 recommendations of the same category (tvShow or movie)\n",
    "# see 'min' value\n",
    "slice_500 = pd.Series(recom_len).describe().round(2)\n",
    "slice_500"
   ]
  },
  {
   "cell_type": "code",
   "execution_count": 73,
   "metadata": {},
   "outputs": [
    {
     "name": "stdout",
     "output_type": "stream",
     "text": [
      "89.7 ms ± 2.74 ms per loop (mean ± std. dev. of 7 runs, 10 loops each)\n"
     ]
    }
   ],
   "source": [
    "%timeit get_recommendations('IT')"
   ]
  },
  {
   "cell_type": "code",
   "execution_count": 74,
   "metadata": {},
   "outputs": [
    {
     "name": "stdout",
     "output_type": "stream",
     "text": [
      "Speed of Prediction: 95.71% increase\n"
     ]
    }
   ],
   "source": [
    "# After slicing only the required sample of values from 'recommendations' variable (i.e minimum value of 10) we see a drastic\n",
    "# performance improvement\n",
    "print(f\"Speed of Prediction: {((854-36.6)/854)*100:.2f}% increase\")"
   ]
  },
  {
   "cell_type": "code",
   "execution_count": 75,
   "metadata": {},
   "outputs": [
    {
     "data": {
      "text/html": [
       "<div>\n",
       "<style scoped>\n",
       "    .dataframe tbody tr th:only-of-type {\n",
       "        vertical-align: middle;\n",
       "    }\n",
       "\n",
       "    .dataframe tbody tr th {\n",
       "        vertical-align: top;\n",
       "    }\n",
       "\n",
       "    .dataframe thead th {\n",
       "        text-align: right;\n",
       "    }\n",
       "</style>\n",
       "<table border=\"1\" class=\"dataframe\">\n",
       "  <thead>\n",
       "    <tr style=\"text-align: right;\">\n",
       "      <th></th>\n",
       "      <th>title</th>\n",
       "      <th>urls</th>\n",
       "    </tr>\n",
       "  </thead>\n",
       "  <tbody>\n",
       "    <tr>\n",
       "      <th>0</th>\n",
       "      <td>The Martian (2015)</td>\n",
       "      <td>https://www.imdb.com/title/tt3659388/</td>\n",
       "    </tr>\n",
       "    <tr>\n",
       "      <th>1</th>\n",
       "      <td>Battle Royale (2000)</td>\n",
       "      <td>https://www.imdb.com/title/tt0266308/</td>\n",
       "    </tr>\n",
       "    <tr>\n",
       "      <th>2</th>\n",
       "      <td>Time After Time (1979)</td>\n",
       "      <td>https://www.imdb.com/title/tt0080025/</td>\n",
       "    </tr>\n",
       "    <tr>\n",
       "      <th>3</th>\n",
       "      <td>2001: A Space Odyssey (1968)</td>\n",
       "      <td>https://www.imdb.com/title/tt0062622/</td>\n",
       "    </tr>\n",
       "    <tr>\n",
       "      <th>4</th>\n",
       "      <td>Brazil (1985)</td>\n",
       "      <td>https://www.imdb.com/title/tt0088846/</td>\n",
       "    </tr>\n",
       "    <tr>\n",
       "      <th>5</th>\n",
       "      <td>Planet of the Apes (1968)</td>\n",
       "      <td>https://www.imdb.com/title/tt0063442/</td>\n",
       "    </tr>\n",
       "    <tr>\n",
       "      <th>6</th>\n",
       "      <td>A.I. Artificial Intelligence (2001)</td>\n",
       "      <td>https://www.imdb.com/title/tt0212720/</td>\n",
       "    </tr>\n",
       "    <tr>\n",
       "      <th>7</th>\n",
       "      <td>Close Encounters of the Third Kind (1977)</td>\n",
       "      <td>https://www.imdb.com/title/tt0075860/</td>\n",
       "    </tr>\n",
       "    <tr>\n",
       "      <th>8</th>\n",
       "      <td>Stalker (1979)</td>\n",
       "      <td>https://www.imdb.com/title/tt0079944/</td>\n",
       "    </tr>\n",
       "    <tr>\n",
       "      <th>9</th>\n",
       "      <td>Frankenstein (2011)</td>\n",
       "      <td>https://www.imdb.com/title/tt1795369/</td>\n",
       "    </tr>\n",
       "  </tbody>\n",
       "</table>\n",
       "</div>"
      ],
      "text/plain": [
       "                                       title  \\\n",
       "0                         The Martian (2015)   \n",
       "1                       Battle Royale (2000)   \n",
       "2                     Time After Time (1979)   \n",
       "3               2001: A Space Odyssey (1968)   \n",
       "4                              Brazil (1985)   \n",
       "5                  Planet of the Apes (1968)   \n",
       "6        A.I. Artificial Intelligence (2001)   \n",
       "7  Close Encounters of the Third Kind (1977)   \n",
       "8                             Stalker (1979)   \n",
       "9                        Frankenstein (2011)   \n",
       "\n",
       "                                    urls  \n",
       "0  https://www.imdb.com/title/tt3659388/  \n",
       "1  https://www.imdb.com/title/tt0266308/  \n",
       "2  https://www.imdb.com/title/tt0080025/  \n",
       "3  https://www.imdb.com/title/tt0062622/  \n",
       "4  https://www.imdb.com/title/tt0088846/  \n",
       "5  https://www.imdb.com/title/tt0063442/  \n",
       "6  https://www.imdb.com/title/tt0212720/  \n",
       "7  https://www.imdb.com/title/tt0075860/  \n",
       "8  https://www.imdb.com/title/tt0079944/  \n",
       "9  https://www.imdb.com/title/tt1795369/  "
      ]
     },
     "execution_count": 75,
     "metadata": {},
     "output_type": "execute_result"
    }
   ],
   "source": [
    "get_recommendations('Interstellar')"
   ]
  },
  {
   "cell_type": "code",
   "execution_count": null,
   "metadata": {},
   "outputs": [],
   "source": []
  },
  {
   "cell_type": "code",
   "execution_count": null,
   "metadata": {},
   "outputs": [],
   "source": []
  },
  {
   "cell_type": "code",
   "execution_count": null,
   "metadata": {},
   "outputs": [],
   "source": []
  }
 ],
 "metadata": {
  "kernelspec": {
   "display_name": "Python 3",
   "language": "python",
   "name": "python3"
  },
  "language_info": {
   "codemirror_mode": {
    "name": "ipython",
    "version": 3
   },
   "file_extension": ".py",
   "mimetype": "text/x-python",
   "name": "python",
   "nbconvert_exporter": "python",
   "pygments_lexer": "ipython3",
   "version": "3.8.3"
  }
 },
 "nbformat": 4,
 "nbformat_minor": 4
}
